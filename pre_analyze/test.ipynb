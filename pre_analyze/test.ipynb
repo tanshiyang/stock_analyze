{
 "cells": [
  {
   "cell_type": "markdown",
   "metadata": {
    "collapsed": true
   },
   "source": [
    "print(\"\")"
   ]
  },
  {
   "cell_type": "code",
   "execution_count": 13,
   "metadata": {
    "collapsed": false
   },
   "outputs": [
    {
     "name": "stdout",
     "output_type": "stream",
     "text": [
      "760\n"
     ]
    }
   ],
   "source": [
    "from pylab import *\n",
    "import pandas as pd\n",
    "import numpy as np\n",
    "import copy\n",
    "import mysql.connector\n",
    "import re, time\n",
    "import mydate\n",
    "import mydb\n",
    "import mytusharepro\n",
    "import tradeday\n",
    "\n",
    "conn = mydb.conn()\n",
    "cursor = conn.cursor()\n",
    "\n",
    "sql = \"\"\"\n",
    "SELECT a.trade_date,ts_code,count(0) from rps_tops a where \n",
    "a.extrs >800 \n",
    "group by trade_date,ts_code\n",
    "HAVING count(0)>1\n",
    "\"\"\"\n",
    "df = pd.read_sql(sql, conn)\n",
    "\n",
    "\n",
    "\n"
   ]
  },
  {
   "cell_type": "code",
   "execution_count": null,
   "metadata": {},
   "outputs": [],
   "source": []
  }
 ],
 "metadata": {
  "kernelspec": {
   "display_name": "Python 2",
   "language": "python",
   "name": "python2"
  },
  "language_info": {
   "codemirror_mode": {
    "name": "ipython",
    "version": 2
   },
   "file_extension": ".py",
   "mimetype": "text/x-python",
   "name": "python",
   "nbconvert_exporter": "python",
   "pygments_lexer": "ipython2",
   "version": "2.7.6"
  }
 },
 "nbformat": 4,
 "nbformat_minor": 0
}
